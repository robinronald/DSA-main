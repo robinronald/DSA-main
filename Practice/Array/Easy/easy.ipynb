{
 "cells": [
  {
   "cell_type": "code",
   "execution_count": null,
   "metadata": {},
   "outputs": [],
   "source": [
    "N = int(input(\"Enter number of elements: \"))\n",
    "smallest = float('inf')\n",
    "\n",
    "for _ in range(N):\n",
    "    num = int(input())\n",
    "    if num < smallest:\n",
    "        smallest = num\n",
    "\n",
    "print(\"Smallest element:\", smallest)\n"
   ]
  },
  {
   "cell_type": "code",
   "execution_count": null,
   "metadata": {},
   "outputs": [],
   "source": [
    "N = int(input(\"Enter number of elements: \"))\n",
    "arr = [int(input()) for _ in range(N)]\n",
    "\n",
    "for i in range(N // 2):\n",
    "    arr[i], arr[N - 1 - i] = arr[N - 1 - i], arr[i]\n",
    "\n",
    "print(\"Reversed array:\", arr)"
   ]
  },
  {
   "cell_type": "code",
   "execution_count": null,
   "metadata": {},
   "outputs": [],
   "source": [
    "N = int(input(\"Enter number of elements: \"))\n",
    "arr = [int(input()) for _ in range(N)]\n",
    "\n",
    "mean = sum(arr) / N\n",
    "variance = sum((x - mean) ** 2 for x in arr) / N\n",
    "std_dev = variance ** 0.5\n",
    "\n",
    "print(\"Standard deviation:\", std_dev)\n"
   ]
  },
  {
   "cell_type": "code",
   "execution_count": null,
   "metadata": {},
   "outputs": [],
   "source": [
    "N = int(input(\"Enter number of elements: \"))\n",
    "count = 0\n",
    "\n",
    "for _ in range(N):\n",
    "    num = int(input())\n",
    "    if num % 2 != 0:\n",
    "        count += 1\n",
    "\n",
    "print(\"Odd numbers count:\", count)\n"
   ]
  },
  {
   "cell_type": "code",
   "execution_count": null,
   "metadata": {},
   "outputs": [],
   "source": [
    "N = int(input(\"Enter number of elements: \"))\n",
    "largest_odd = None\n",
    "\n",
    "for _ in range(N):\n",
    "    num = int(input())\n",
    "    if num % 2 != 0:\n",
    "        if largest_odd is None or num > largest_odd:\n",
    "            largest_odd = num\n",
    "\n",
    "if largest_odd is None:\n",
    "    print(\"No odd numbers found\")\n",
    "else:\n",
    "    print(\"Largest odd number:\", largest_odd)\n"
   ]
  },
  {
   "cell_type": "code",
   "execution_count": null,
   "metadata": {},
   "outputs": [],
   "source": [
    "N = int(input(\"Enter number of elements: \"))\n",
    "count = 0\n",
    "\n",
    "def is_prime(n):\n",
    "    if n < 2:\n",
    "        return False\n",
    "    for i in range(2, n):\n",
    "        if n % i == 0:\n",
    "            return False\n",
    "    return True\n",
    "\n",
    "for _ in range(N):\n",
    "    num = int(input())\n",
    "    if is_prime(num):\n",
    "        count += 1\n",
    "\n",
    "print(\"Prime numbers count:\", count)\n"
   ]
  },
  {
   "cell_type": "code",
   "execution_count": null,
   "metadata": {},
   "outputs": [],
   "source": [
    "N = int(input(\"Enter number of elements: \"))\n",
    "first = second = float('-inf')\n",
    "\n",
    "for _ in range(N):\n",
    "    num = int(input())\n",
    "    if num > first:\n",
    "        second = first\n",
    "        first = num\n",
    "    elif num > second and num < first:\n",
    "        second = num\n",
    "\n",
    "if second == float('-inf'):\n",
    "    print(\"No second highest element\")\n",
    "else:\n",
    "    print(\"Second highest element:\", second)\n"
   ]
  },
  {
   "cell_type": "code",
   "execution_count": null,
   "metadata": {},
   "outputs": [],
   "source": [
    "N = int(input(\"Enter number of elements: \"))\n",
    "arr = [int(input()) for _ in range(N)]\n",
    "max_diff = float('-inf')\n",
    "\n",
    "for i in range(N):\n",
    "    for j in range(i + 1, N):\n",
    "        diff = abs(arr[i] - arr[j])\n",
    "        if diff > max_diff:\n",
    "            max_diff = diff\n",
    "\n",
    "print(\"Largest difference:\", max_diff)\n"
   ]
  },
  {
   "cell_type": "code",
   "execution_count": null,
   "metadata": {},
   "outputs": [],
   "source": [
    "num = int(input(\"Enter decimal number: \"))\n",
    "binary = \"\"\n",
    "\n",
    "while num > 0:\n",
    "    binary = str(num % 2) + binary\n",
    "    num //= 2\n",
    "\n",
    "print(\"Binary equivalent:\", binary)\n"
   ]
  },
  {
   "cell_type": "code",
   "execution_count": null,
   "metadata": {},
   "outputs": [],
   "source": [
    "N = int(input(\"Enter number of elements: \"))\n",
    "arr = [int(input()) for _ in range(N)]\n",
    "k = int(input(\"Enter position to delete: \"))\n",
    "\n",
    "for i in range(k, N - 1):\n",
    "    arr[i] = arr[i + 1]\n",
    "\n",
    "arr.pop()\n",
    "print(\"Array after deletion:\", arr)\n"
   ]
  },
  {
   "cell_type": "code",
   "execution_count": null,
   "metadata": {},
   "outputs": [],
   "source": [
    "N = int(input(\"Enter number of elements: \"))\n",
    "arr = [int(input()) for _ in range(N)]\n",
    "num = int(input(\"Enter number to insert: \"))\n",
    "\n",
    "i = 0\n",
    "while i < N and arr[i] < num:\n",
    "    i += 1\n",
    "\n",
    "arr.append(0)  # Increase array size\n",
    "for j in range(N, i, -1):\n",
    "    arr[j] = arr[j - 1]\n",
    "\n",
    "arr[i] = num\n",
    "print(\"Array after insertion:\", arr)\n"
   ]
  },
  {
   "cell_type": "code",
   "execution_count": null,
   "metadata": {},
   "outputs": [],
   "source": [
    "N1 = int(input(\"Enter number of elements in first set: \"))\n",
    "set1 = [int(input()) for _ in range(N1)]\n",
    "\n",
    "N2 = int(input(\"Enter number of elements in second set: \"))\n",
    "set2 = [int(input()) for _ in range(N2)]\n",
    "\n",
    "union = set1[:]\n",
    "\n",
    "for num in set2:\n",
    "    if num not in union:\n",
    "        union.append(num)\n",
    "\n",
    "print(\"Union of sets:\", union)"
   ]
  }
 ],
 "metadata": {
  "kernelspec": {
   "display_name": "Python 3",
   "language": "python",
   "name": "python3"
  },
  "language_info": {
   "name": "python",
   "version": "3.13.0"
  }
 },
 "nbformat": 4,
 "nbformat_minor": 2
}
