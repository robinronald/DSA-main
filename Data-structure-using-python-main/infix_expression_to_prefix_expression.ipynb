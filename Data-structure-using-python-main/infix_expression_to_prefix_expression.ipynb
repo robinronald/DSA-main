{
  "nbformat": 4,
  "nbformat_minor": 0,
  "metadata": {
    "colab": {
      "provenance": []
    },
    "kernelspec": {
      "name": "python3",
      "display_name": "Python 3"
    },
    "language_info": {
      "name": "python"
    }
  },
  "cells": [
    {
      "cell_type": "code",
      "execution_count": 5,
      "metadata": {
        "colab": {
          "base_uri": "https://localhost:8080/"
        },
        "id": "teax_ZZ9gnxw",
        "outputId": "8510ccdf-bbeb-4554-d69f-1686e614d463"
      },
      "outputs": [
        {
          "output_type": "stream",
          "name": "stdout",
          "text": [
            "Enter an infix expression:A+(B-C*D)/E\n",
            "The equivalent prefix expression is:  +A/-B*CDE \n"
          ]
        }
      ],
      "source": [
        "class StackNode:\n",
        "  def __init__(self,NewData,link):\n",
        "    self.data=NewData\n",
        "    self.next=link\n",
        "\n",
        "class Stack:\n",
        "  def __init__(self):\n",
        "    self.top=None\n",
        "  def isempty(self):\n",
        "    return self.top is None\n",
        "  def peek(self):\n",
        "    return self.top.data\n",
        "  def pop(self):\n",
        "    node=self.top\n",
        "    self.top=self.top.next\n",
        "    return node.data\n",
        "  def push(self,NewData):\n",
        "    self.top=StackNode(NewData,self.top)\n",
        "\n",
        "def getPriority(opr):\n",
        "  if (opr=='*' or opr=='/' or opr=='%'):\n",
        "    return 1\n",
        "  else:\n",
        "    return 0\n",
        "\n",
        "def infix_to_prefix(source):\n",
        "  source=reverse(source)\n",
        "  target=\" \"\n",
        "  st=Stack()\n",
        "  for ch in source:\n",
        "    if ch=='(':\n",
        "      st.push(ch)\n",
        "    elif ch==')':\n",
        "      while (not st.isempty() and st.peek() != '(' ):\n",
        "        target+=st.pop()\n",
        "      st.pop()\n",
        "    elif ch.isdigit() or ch.isalpha():\n",
        "      target+=ch\n",
        "    elif ch=='+' or ch=='-' or ch=='*' or ch=='/' or ch=='%':\n",
        "      while (not st.isempty() and st.peek() !='(' and getPriority(st.peek())>getPriority(ch)):\n",
        "        target+=st.pop()\n",
        "      st.push(ch)\n",
        "  while(not st.isempty()):\n",
        "    target+=st.pop()\n",
        "  target=reverse(target)\n",
        "  return target\n",
        "\n",
        "def reverse(str1):\n",
        "  str2=\" \"\n",
        "  j=len(str1)-1\n",
        "  while(j>=0):\n",
        "    if str1[j]=='(':\n",
        "      str2+=')'\n",
        "    elif str1[j]==')':\n",
        "      str2+='('\n",
        "    else:\n",
        "      str2+=str1[j]\n",
        "    j=j-1\n",
        "  return str2\n",
        "\n",
        "infix_exp=input(\"Enter an infix expression:\")\n",
        "prefix=infix_to_prefix(infix_exp)\n",
        "print(\"The equivalent prefix expression is:\", prefix)"
      ]
    }
  ]
}